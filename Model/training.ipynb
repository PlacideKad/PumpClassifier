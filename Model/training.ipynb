{
 "cells": [
  {
   "cell_type": "code",
   "execution_count": 1,
   "id": "6cd96965",
   "metadata": {},
   "outputs": [],
   "source": [
    "import pandas as pd\n",
    "import numpy as np\n",
    "from sklearn.preprocessing import StandardScaler, LabelEncoder\n",
    "from sklearn.model_selection import train_test_split\n",
    "import torch\n",
    "import torch.nn as nn\n",
    "import torch.nn.functional as F\n",
    "from model_architecture import PumpClassifier\n",
    "from tqdm import tqdm"
   ]
  },
  {
   "cell_type": "code",
   "execution_count": 2,
   "id": "70db4b9d",
   "metadata": {},
   "outputs": [],
   "source": [
    "df=pd.read_csv('data.csv')\n",
    "df.columns=['col1','col2','col3','col4','target']"
   ]
  },
  {
   "cell_type": "code",
   "execution_count": 3,
   "id": "8b2988e4",
   "metadata": {},
   "outputs": [],
   "source": [
    "x=df[['col1','col2','col3','col4']].copy()\n",
    "y=df['target']"
   ]
  },
  {
   "cell_type": "code",
   "execution_count": 4,
   "id": "94ca943a",
   "metadata": {},
   "outputs": [],
   "source": [
    "scaler=StandardScaler()\n",
    "x[['col1','col2']]=scaler.fit_transform(x[['col1','col2']])\n",
    "x['col3']=(x['col3']==130).astype(int)"
   ]
  },
  {
   "cell_type": "code",
   "execution_count": 5,
   "id": "fa0f90ff",
   "metadata": {},
   "outputs": [],
   "source": [
    "le=LabelEncoder()\n",
    "y=le.fit_transform(y)"
   ]
  },
  {
   "cell_type": "code",
   "execution_count": 6,
   "id": "83a4431f",
   "metadata": {},
   "outputs": [],
   "source": [
    "X_train,X_test,y_train,y_test=train_test_split(x.values,y,test_size=0.2,random_state=42)\n",
    "X_train_tensor=torch.tensor(X_train,dtype=torch.float32)\n",
    "X_test_tensor=torch.tensor(X_test,dtype=torch.float32)\n",
    "y_train_tensor=torch.tensor(y_train,dtype=torch.long)\n",
    "y_test_tensor=torch.tensor(y_test,dtype=torch.long)"
   ]
  },
  {
   "cell_type": "code",
   "execution_count": 7,
   "id": "f318df0b",
   "metadata": {},
   "outputs": [],
   "source": [
    "model=PumpClassifier()\n",
    "criterion=nn.CrossEntropyLoss()\n",
    "optimizer=torch.optim.Adam(model.parameters(),lr=0.001)"
   ]
  },
  {
   "cell_type": "code",
   "execution_count": 12,
   "id": "dfa3b7ce",
   "metadata": {},
   "outputs": [
    {
     "name": "stdout",
     "output_type": "stream",
     "text": [
      "Epoch 0 | Train Loss: 0.2580 | Test Acc:94.12%\n",
      "Epoch 5 | Train Loss: 0.2454 | Test Acc:95.29%\n",
      "Epoch10 | Train Loss: 0.2342 | Test Acc:96.47%\n",
      "Epoch15 | Train Loss: 0.2222 | Test Acc:96.47%\n",
      "Epoch20 | Train Loss: 0.2119 | Test Acc:96.47%\n",
      "Epoch25 | Train Loss: 0.2014 | Test Acc:96.47%\n",
      "Epoch30 | Train Loss: 0.1929 | Test Acc:96.47%\n",
      "Epoch35 | Train Loss: 0.1831 | Test Acc:96.47%\n",
      "Epoch40 | Train Loss: 0.1751 | Test Acc:96.47%\n",
      "Epoch45 | Train Loss: 0.1670 | Test Acc:96.47%\n",
      "Epoch50 | Train Loss: 0.1597 | Test Acc:96.47%\n",
      "Epoch55 | Train Loss: 0.1530 | Test Acc:96.47%\n",
      "Epoch60 | Train Loss: 0.1465 | Test Acc:96.47%\n",
      "Epoch65 | Train Loss: 0.1396 | Test Acc:96.47%\n",
      "Epoch70 | Train Loss: 0.1339 | Test Acc:96.47%\n",
      "Epoch75 | Train Loss: 0.1281 | Test Acc:96.47%\n",
      "Epoch80 | Train Loss: 0.1233 | Test Acc:96.47%\n",
      "Epoch85 | Train Loss: 0.1178 | Test Acc:97.65%\n",
      "Epoch90 | Train Loss: 0.1130 | Test Acc:97.65%\n",
      "Epoch95 | Train Loss: 0.1084 | Test Acc:97.65%\n",
      "Epoch99 | Train Loss: 0.1054 | Test Acc:97.65%\n"
     ]
    }
   ],
   "source": [
    "n_epochs=100\n",
    "for epoch in range(n_epochs):\n",
    "  model.train()\n",
    "  optimizer.zero_grad()\n",
    "  output=model(X_train_tensor)\n",
    "  loss=criterion(output,y_train_tensor)\n",
    "  loss.backward()\n",
    "  optimizer.step()\n",
    "\n",
    "  model.eval()\n",
    "  with torch.no_grad():\n",
    "    test_output=model(X_test_tensor)\n",
    "    test_pred=torch.argmax(test_output,dim=1)\n",
    "    test_acc=(test_pred==y_test_tensor).float().mean()\n",
    "  \n",
    "  if epoch %5==0 or epoch==n_epochs-1:\n",
    "    print(f\"Epoch{epoch:>2} | Train Loss: {loss.item():.4f} | Test Acc:{test_acc.item():.2%}\")"
   ]
  },
  {
   "cell_type": "code",
   "execution_count": 13,
   "id": "31dbe9e7",
   "metadata": {},
   "outputs": [
    {
     "data": {
      "text/plain": [
       "['label_encoder.save']"
      ]
     },
     "execution_count": 13,
     "metadata": {},
     "output_type": "execute_result"
    }
   ],
   "source": [
    "torch.save(model.state_dict(),'pumpPredictionModel.pt')\n",
    "\n",
    "import joblib\n",
    "joblib.dump(scaler,'scaler.save')\n",
    "joblib.dump(le,'label_encoder.save')"
   ]
  }
 ],
 "metadata": {
  "kernelspec": {
   "display_name": "Python 3",
   "language": "python",
   "name": "python3"
  },
  "language_info": {
   "codemirror_mode": {
    "name": "ipython",
    "version": 3
   },
   "file_extension": ".py",
   "mimetype": "text/x-python",
   "name": "python",
   "nbconvert_exporter": "python",
   "pygments_lexer": "ipython3",
   "version": "3.12.8"
  }
 },
 "nbformat": 4,
 "nbformat_minor": 5
}
