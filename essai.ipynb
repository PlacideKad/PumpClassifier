{
 "cells": [
  {
   "cell_type": "code",
   "execution_count": null,
   "id": "6cd96965",
   "metadata": {},
   "outputs": [],
   "source": [
    "import pandas as pd\n",
    "import numpy as np\n",
    "from sklearn.preprocessing import StandardScaler, LabelEncoder\n",
    "from sklearn.model_selection import train_test_split\n",
    "import torch\n",
    "import torch.nn as nn\n",
    "import torch.nn.functional as F\n",
    "from tqdm import tqdm"
   ]
  },
  {
   "cell_type": "code",
   "execution_count": null,
   "id": "70db4b9d",
   "metadata": {},
   "outputs": [],
   "source": [
    "df=pd.read_csv('data.csv')\n",
    "df.columns=['col1','col2','col3','col4','target']"
   ]
  },
  {
   "cell_type": "code",
   "execution_count": null,
   "id": "8b2988e4",
   "metadata": {},
   "outputs": [],
   "source": [
    "x=df[['col1','col2','col3','col4']].copy()\n",
    "y=df['target']"
   ]
  },
  {
   "cell_type": "code",
   "execution_count": null,
   "id": "94ca943a",
   "metadata": {},
   "outputs": [],
   "source": [
    "scaler=StandardScaler()\n",
    "x[['col1','col2']]=scaler.fit_transform(x[['col1','col2']])\n",
    "x['col3']=(x['col3']==130).astype(int)"
   ]
  },
  {
   "cell_type": "code",
   "execution_count": null,
   "id": "fa0f90ff",
   "metadata": {},
   "outputs": [],
   "source": [
    "le=LabelEncoder()\n",
    "y=le.fit_transform(y)"
   ]
  },
  {
   "cell_type": "code",
   "execution_count": null,
   "id": "83a4431f",
   "metadata": {},
   "outputs": [],
   "source": [
    "X_train,X_test,y_train,y_test=train_test_split(x.values,y,test_size=0.2,random_state=42)\n",
    "X_train_tensor=torch.tensor(X_train,dtype=torch.float32)\n",
    "X_test_tensor=torch.tensor(X_test,dtype=torch.float32)\n",
    "y_train_tensor=torch.tensor(y_train,dtype=torch.long)\n",
    "y_test_tensor=torch.tensor(y_test,dtype=torch.long)"
   ]
  },
  {
   "cell_type": "code",
   "execution_count": null,
   "id": "209599b9",
   "metadata": {},
   "outputs": [],
   "source": [
    "class PumpClassifier(nn.Module):\n",
    "  def __init__(self):\n",
    "    super(PumpClassifier,self).__init__()\n",
    "    self.model=nn.Sequential(\n",
    "      nn.Linear(4,64),\n",
    "      nn.ReLU(),\n",
    "      nn.Linear(64,128),\n",
    "      nn.ReLU(),\n",
    "      nn.Linear(128,64),\n",
    "      nn.ReLU(),\n",
    "      nn.Linear(64,20)\n",
    "    )\n",
    "  def forward(self,x):\n",
    "    return self.model(x)"
   ]
  },
  {
   "cell_type": "code",
   "execution_count": null,
   "id": "f318df0b",
   "metadata": {},
   "outputs": [],
   "source": [
    "model=PumpClassifier()\n",
    "criterion=nn.CrossEntropyLoss()\n",
    "optimizer=torch.optim.Adam(model.parameters(),lr=0.001)"
   ]
  },
  {
   "cell_type": "code",
   "execution_count": null,
   "id": "dfa3b7ce",
   "metadata": {},
   "outputs": [],
   "source": [
    "n_epochs=100\n",
    "for epoch in range(n_epochs):\n",
    "  model.train()\n",
    "  optimizer.zero_grad()\n",
    "  output=model(X_train_tensor)\n",
    "  loss=criterion(output,y_train_tensor)\n",
    "  loss.backward()\n",
    "  optimizer.step()\n",
    "\n",
    "  model.eval()\n",
    "  with torch.no_grad():\n",
    "    test_output=model(X_test_tensor)\n",
    "    test_pred=torch.argmax(test_output,dim=1)\n",
    "    test_acc=(test_pred==y_test_tensor).float().mean()\n",
    "  \n",
    "  if epoch %5==0 or epoch==n_epochs-1:\n",
    "    print(f\"Epoch{epoch:>2} | Train Loss: {loss.item():.4f} | Test Acc:{test_acc.item():.2%}\")"
   ]
  },
  {
   "cell_type": "code",
   "execution_count": null,
   "id": "dc592f1f",
   "metadata": {},
   "outputs": [],
   "source": [
    "def pumpModelPrediction(dataArray):\n",
    "  \"\"\"\n",
    "  Cette fontion prend un vecteur ligne de 4 elements en parametre:\n",
    "  - le premier element correspond à la hauteur manométrique en mètres\n",
    "  - le deuxième element correspond au débit en fonctionnement de la pompe en litres par minutes\n",
    "  - le troisième correspond au débit nominal de la pompe en mètres cube par heure\n",
    "  - le quatrième  correspond au diamètre de la pompe en pouces.\n",
    "\n",
    "  Le modèle actuel n'est entrainé que sur des donnés de pompes de 8 pouces de diamètre ayant un débit nominal\n",
    "  de 100 ou 130 m^3/h.\n",
    "  \"\"\"\n",
    "  df_input=pd.DataFrame([[dataArray[0],dataArray[1]]],columns=['col1','col2'])\n",
    "  scaled=scaler.transform(df_input)[0]\n",
    "  col3=1 if dataArray[2]==130 else 0\n",
    "  col4=dataArray[3]\n",
    "  features=[scaled[0],scaled[1],col3,col4]\n",
    "  input_tensor=torch.tensor([features],dtype=torch.float32)\n",
    "\n",
    "  model.eval()\n",
    "  with torch.no_grad():\n",
    "    output=model(input_tensor)\n",
    "    pred_index=torch.argmax(output,dim=1).item()\n",
    "    return le.inverse_transform([pred_index])[0]"
   ]
  }
 ],
 "metadata": {
  "kernelspec": {
   "display_name": "Python 3",
   "language": "python",
   "name": "python3"
  },
  "language_info": {
   "codemirror_mode": {
    "name": "ipython",
    "version": 3
   },
   "file_extension": ".py",
   "mimetype": "text/x-python",
   "name": "python",
   "nbconvert_exporter": "python",
   "pygments_lexer": "ipython3",
   "version": "3.12.8"
  }
 },
 "nbformat": 4,
 "nbformat_minor": 5
}
